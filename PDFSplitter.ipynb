{
 "cells": [
  {
   "cell_type": "code",
   "execution_count": 1,
   "metadata": {},
   "outputs": [],
   "source": [
    "import os\n",
    "import pandas as pd\n",
    "import pyodbc\n",
    "#import ConfigParser\n",
    "from pandas import Series, DataFrame\n",
    "\n",
    "outputPath = 'C:\\output'"
   ]
  },
  {
   "cell_type": "code",
   "execution_count": 2,
   "metadata": {},
   "outputs": [
    {
     "data": {
      "text/html": [
       "<div>\n",
       "<style scoped>\n",
       "    .dataframe tbody tr th:only-of-type {\n",
       "        vertical-align: middle;\n",
       "    }\n",
       "\n",
       "    .dataframe tbody tr th {\n",
       "        vertical-align: top;\n",
       "    }\n",
       "\n",
       "    .dataframe thead th {\n",
       "        text-align: right;\n",
       "    }\n",
       "</style>\n",
       "<table border=\"1\" class=\"dataframe\">\n",
       "  <thead>\n",
       "    <tr style=\"text-align: right;\">\n",
       "      <th></th>\n",
       "      <th>LOAN_NUMBER</th>\n",
       "    </tr>\n",
       "  </thead>\n",
       "  <tbody>\n",
       "    <tr>\n",
       "      <th>0</th>\n",
       "      <td>4569898</td>\n",
       "    </tr>\n",
       "    <tr>\n",
       "      <th>1</th>\n",
       "      <td>9895689</td>\n",
       "    </tr>\n",
       "    <tr>\n",
       "      <th>2</th>\n",
       "      <td>8995998</td>\n",
       "    </tr>\n",
       "    <tr>\n",
       "      <th>3</th>\n",
       "      <td>5980985</td>\n",
       "    </tr>\n",
       "    <tr>\n",
       "      <th>4</th>\n",
       "      <td>5678978</td>\n",
       "    </tr>\n",
       "  </tbody>\n",
       "</table>\n",
       "</div>"
      ],
      "text/plain": [
       "   LOAN_NUMBER\n",
       "0      4569898\n",
       "1      9895689\n",
       "2      8995998\n",
       "3      5980985\n",
       "4      5678978"
      ]
     },
     "execution_count": 2,
     "metadata": {},
     "output_type": "execute_result"
    }
   ],
   "source": [
    "excel = pd.read_excel('Loans.xlsx')\n",
    "excel.head()"
   ]
  },
  {
   "cell_type": "code",
   "execution_count": 3,
   "metadata": {},
   "outputs": [
    {
     "name": "stdout",
     "output_type": "stream",
     "text": [
      "[4569898, 9895689, 8995998, 5980985, 5678978]\n"
     ]
    }
   ],
   "source": [
    "loanNumber = excel.LOAN_NUMBER.tolist()\n",
    "print(loanNumber)"
   ]
  },
  {
   "cell_type": "code",
   "execution_count": 5,
   "metadata": {},
   "outputs": [
    {
     "name": "stdout",
     "output_type": "stream",
     "text": [
      "Created: syllabusCIT244_Page Number_4569898.pdf\n",
      "Created: syllabusCIT244_Page Number_9895689.pdf\n",
      "Created: syllabusCIT244_Page Number_8995998.pdf\n",
      "Created: syllabusCIT244_Page Number_5980985.pdf\n",
      "Created: syllabusCIT244_Page Number_5678978.pdf\n",
      "5\n"
     ]
    }
   ],
   "source": [
    "from PyPDF2 import PdfFileReader, PdfFileWriter\n",
    "outputPath = 'C:\\\\output'\n",
    "def pdf_splitter(path):\n",
    "    fname = os.path.splitext(os.path.basename(path))[0]\n",
    "    counter = 0\n",
    "    pdf = PdfFileReader(path)\n",
    "    for page in range(pdf.getNumPages()):\n",
    "        pdf_writer = PdfFileWriter()\n",
    "        pdf_writer.addPage(pdf.getPage(page))\n",
    "        output_filename = '{}_Page Number_{}.pdf'.format(fname, loanNumber[page])\n",
    "        \n",
    "        with open(os.path.join(outputPath,output_filename), 'wb') as out:\n",
    "            pdf_writer.write(out)\n",
    "            \n",
    "        print('Created: {}'.format(output_filename))\n",
    "        counter += 1\n",
    "    print (counter)\n",
    "if __name__ == '__main__':\n",
    "    path = 'syllabusCIT244.pdf'\n",
    "    pdf_splitter(path)"
   ]
  },
  {
   "cell_type": "code",
   "execution_count": null,
   "metadata": {},
   "outputs": [],
   "source": []
  }
 ],
 "metadata": {
  "kernelspec": {
   "display_name": "Python 3",
   "language": "python",
   "name": "python3"
  },
  "language_info": {
   "codemirror_mode": {
    "name": "ipython",
    "version": 3
   },
   "file_extension": ".py",
   "mimetype": "text/x-python",
   "name": "python",
   "nbconvert_exporter": "python",
   "pygments_lexer": "ipython3",
   "version": "3.8.3"
  }
 },
 "nbformat": 4,
 "nbformat_minor": 4
}
